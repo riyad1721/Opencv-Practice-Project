{
 "cells": [
  {
   "cell_type": "code",
   "execution_count": 1,
   "id": "c9d2747f",
   "metadata": {},
   "outputs": [],
   "source": [
    "import cv2\n",
    "import numpy as np"
   ]
  },
  {
   "cell_type": "code",
   "execution_count": 2,
   "id": "1ebf3f04",
   "metadata": {},
   "outputs": [],
   "source": [
    "#read two different images of same channel\n",
    "img1 = cv2.imread(\"roi_opr.jpg\")\n",
    "img1 = cv2.resize(img1,(500,700))\n",
    "img2 = cv2.imread(\"bro_thor.jpg\")\n",
    "img2 = cv2.resize(img2,(500,700))\n",
    "\n",
    "def blend(x):\n",
    "    pass\n",
    "img = np.zeros((400,400,3),np.uint8)\n",
    "cv2.namedWindow('win') #create track bar windows\n",
    "cv2.createTrackbar('alpha','win',1,100,blend)\n",
    "switch = '0 : OFF \\n 1 : ON'  #create switch for invoke the trackbars\n",
    "cv2.createTrackbar(switch,'win',0,1,blend) \n",
    "\n",
    "while(1):\n",
    "    alpha = cv2.getTrackbarPos('alpha','win')\n",
    "   \n",
    "    s = cv2.getTrackbarPos(switch,'win')\n",
    "    na = float(alpha/100)\n",
    "    \n",
    "    if s == 0:\n",
    "        dst = img[:]\n",
    "    else:\n",
    "        dst = cv2.addWeighted(img1,1-na,img2,na,0)\n",
    "        cv2.putText(dst, str(alpha), (20, 50), cv2.FONT_ITALIC,\n",
    "                   2, (0, 125, 255), 2)\n",
    "    cv2.imshow('dst',dst)\n",
    "\n",
    "    k=cv2.waitKey(1) & 0xFF\n",
    "    if k == 27:\n",
    "        break\n",
    "# cv2.imshow('image 1', img1)\n",
    "# cv2.imshow('image 2', img2)\n",
    "# cv2.imshow('blend image',img)\n",
    "\n",
    "cv2.waitKey(0)    \n",
    "cv2.destroyAllWindows()"
   ]
  },
  {
   "cell_type": "code",
   "execution_count": null,
   "id": "f9f08de7",
   "metadata": {},
   "outputs": [],
   "source": []
  }
 ],
 "metadata": {
  "kernelspec": {
   "display_name": "Python 3 (ipykernel)",
   "language": "python",
   "name": "python3"
  },
  "language_info": {
   "codemirror_mode": {
    "name": "ipython",
    "version": 3
   },
   "file_extension": ".py",
   "mimetype": "text/x-python",
   "name": "python",
   "nbconvert_exporter": "python",
   "pygments_lexer": "ipython3",
   "version": "3.9.16"
  }
 },
 "nbformat": 4,
 "nbformat_minor": 5
}

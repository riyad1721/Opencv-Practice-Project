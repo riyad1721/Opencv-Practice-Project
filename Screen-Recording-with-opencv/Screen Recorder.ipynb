{
 "cells": [
  {
   "cell_type": "code",
   "execution_count": 5,
   "id": "0dd9bd05",
   "metadata": {},
   "outputs": [],
   "source": [
    "import cv2\n",
    "import pyautogui as p\n",
    "import numpy as np"
   ]
  },
  {
   "cell_type": "code",
   "execution_count": 6,
   "id": "c70b4692",
   "metadata": {},
   "outputs": [
    {
     "name": "stdout",
     "output_type": "stream",
     "text": [
      "Enter any file name and pathscreen.mp4\n"
     ]
    }
   ],
   "source": [
    "rs = p.size()\n",
    "fn = input('Enter any file name and path')\n",
    "fps = 60.0\n",
    "fourcc = cv2.VideoWriter_fourcc(*'XVID')\n",
    "output = cv2.VideoWriter(fn,fourcc, fps, rs)\n",
    "\n",
    "#create recording module\n",
    "cv2.namedWindow(\"LIve_Recording\",cv2.WINDOW_NORMAL)\n",
    "#Resize the window\n",
    "cv2.resizeWindow(\"LIve_Recording\",600,400)\n",
    "while True:\n",
    "    img = p.screenshot() #image\n",
    "    f = np.array(img) #convert image into array\n",
    "    f = cv2.cvtColor(f,cv2.COLOR_BGR2RGB)\n",
    "    output.write(f)\n",
    "    cv2.imshow(\"LIve_Recording\", f)\n",
    "    if cv2.waitKey(1) == ord(\"q\"):\n",
    "        break\n",
    "cv2.destroyAllWindows()\n",
    "output.release()  "
   ]
  },
  {
   "cell_type": "code",
   "execution_count": null,
   "id": "ad8708b9",
   "metadata": {},
   "outputs": [],
   "source": []
  }
 ],
 "metadata": {
  "kernelspec": {
   "display_name": "Python 3 (ipykernel)",
   "language": "python",
   "name": "python3"
  },
  "language_info": {
   "codemirror_mode": {
    "name": "ipython",
    "version": 3
   },
   "file_extension": ".py",
   "mimetype": "text/x-python",
   "name": "python",
   "nbconvert_exporter": "python",
   "pygments_lexer": "ipython3",
   "version": "3.9.16"
  }
 },
 "nbformat": 4,
 "nbformat_minor": 5
}

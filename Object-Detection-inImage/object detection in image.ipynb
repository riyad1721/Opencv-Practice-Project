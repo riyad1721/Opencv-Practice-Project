{
 "cells": [
  {
   "cell_type": "code",
   "execution_count": 1,
   "id": "fa3d9da2",
   "metadata": {},
   "outputs": [],
   "source": [
    "# import required libraries\n",
    "import cv2\n",
    "import numpy as np"
   ]
  },
  {
   "cell_type": "code",
   "execution_count": 2,
   "id": "89f3da90",
   "metadata": {},
   "outputs": [],
   "source": [
    "img = cv2.imread('color_balls.jpg')\n",
    "\n",
    "def trackbar(x):\n",
    "    pass\n",
    "\n",
    "window_name = \"Color Adjustments\"\n",
    "cv2.namedWindow(window_name)\n",
    "cv2.createTrackbar(\"Lower_H\", window_name, 0, 255, trackbar)\n",
    "cv2.createTrackbar(\"Lower_S\", window_name, 0, 255, trackbar)\n",
    "cv2.createTrackbar(\"Lower_V\", window_name, 0, 255, trackbar)\n",
    "cv2.createTrackbar(\"Upper_H\", window_name, 255, 255, trackbar)\n",
    "cv2.createTrackbar(\"Upper_S\", window_name, 255, 255, trackbar)\n",
    "cv2.createTrackbar(\"Upper_V\", window_name, 255, 255, trackbar)\n",
    "\n",
    "while True:\n",
    "    hsv = cv2.cvtColor(img, cv2.COLOR_BGR2HSV)\n",
    "    \n",
    "    l_h = cv2.getTrackbarPos(\"Lower_H\", window_name)\n",
    "    l_s = cv2.getTrackbarPos(\"Lower_S\", window_name)\n",
    "    l_v = cv2.getTrackbarPos(\"Lower_V\", window_name)\n",
    "    \n",
    "    u_h = cv2.getTrackbarPos(\"Upper_H\", window_name)\n",
    "    u_s = cv2.getTrackbarPos(\"Upper_S\", window_name)\n",
    "    u_v = cv2.getTrackbarPos(\"Upper_V\", window_name)\n",
    "    \n",
    "    lower_bound = np.array([l_h, l_s, l_v])\n",
    "    upper_bound = np.array([u_h, u_s, u_v])\n",
    "    \n",
    "    #Creating Mask\n",
    "    mask = cv2.inRange(hsv, lower_bound, upper_bound)\n",
    "    #filter mask with image\n",
    "    res = cv2.bitwise_and(img, img, mask=mask)\n",
    "\n",
    "    cv2.imshow(\"frame\", img)\n",
    "    cv2.imshow(\"mask\", mask)\n",
    "    cv2.imshow(\"res\", res)\n",
    "\n",
    "    key = cv2.waitKey(1)\n",
    "    if key == 27:\n",
    "        break\n",
    "\n",
    "cv2.destroyAllWindows()"
   ]
  },
  {
   "cell_type": "code",
   "execution_count": null,
   "id": "19184870",
   "metadata": {},
   "outputs": [],
   "source": []
  }
 ],
 "metadata": {
  "kernelspec": {
   "display_name": "Python 3 (ipykernel)",
   "language": "python",
   "name": "python3"
  },
  "language_info": {
   "codemirror_mode": {
    "name": "ipython",
    "version": 3
   },
   "file_extension": ".py",
   "mimetype": "text/x-python",
   "name": "python",
   "nbconvert_exporter": "python",
   "pygments_lexer": "ipython3",
   "version": "3.9.16"
  }
 },
 "nbformat": 4,
 "nbformat_minor": 5
}
